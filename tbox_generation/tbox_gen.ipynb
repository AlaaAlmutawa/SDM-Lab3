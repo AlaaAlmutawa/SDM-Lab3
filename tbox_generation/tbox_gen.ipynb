{
 "cells": [
  {
   "cell_type": "code",
   "execution_count": 1,
   "id": "4668b07d-cbb6-468c-ad33-384de1c0a26c",
   "metadata": {},
   "outputs": [
    {
     "name": "stdout",
     "output_type": "stream",
     "text": [
      "Collecting rdflib\n",
      "  Downloading rdflib-6.3.2-py3-none-any.whl (528 kB)\n",
      "\u001b[2K     \u001b[90m━━━━━━━━━━━━━━━━━━━━━━━━━━━━━━━━━━━━━━━\u001b[0m \u001b[32m528.1/528.1 kB\u001b[0m \u001b[31m6.2 MB/s\u001b[0m eta \u001b[36m0:00:00\u001b[0m00:01\u001b[0m00:01\u001b[0m\n",
      "\u001b[?25hCollecting isodate<0.7.0,>=0.6.0\n",
      "  Using cached isodate-0.6.1-py2.py3-none-any.whl (41 kB)\n",
      "Requirement already satisfied: pyparsing<4,>=2.1.0 in /opt/homebrew/Caskroom/miniconda/base/lib/python3.9/site-packages (from rdflib) (3.0.9)\n",
      "Requirement already satisfied: six in /opt/homebrew/Caskroom/miniconda/base/lib/python3.9/site-packages (from isodate<0.7.0,>=0.6.0->rdflib) (1.16.0)\n",
      "Installing collected packages: isodate, rdflib\n",
      "Successfully installed isodate-0.6.1 rdflib-6.3.2\n"
     ]
    }
   ],
   "source": [
    "#!pip install rdflib"
   ]
  },
  {
   "cell_type": "code",
   "execution_count": 5,
   "id": "012a917b-f0ac-4298-b54c-f25ff852534b",
   "metadata": {},
   "outputs": [
    {
     "name": "stdout",
     "output_type": "stream",
     "text": [
      "Collecting owlrl\n",
      "  Downloading owlrl-6.0.2-py3-none-any.whl (54 kB)\n",
      "\u001b[2K     \u001b[90m━━━━━━━━━━━━━━━━━━━━━━━━━━━━━━━━━━━━━━━━\u001b[0m \u001b[32m54.5/54.5 kB\u001b[0m \u001b[31m2.2 MB/s\u001b[0m eta \u001b[36m0:00:00\u001b[0m\n",
      "\u001b[?25hRequirement already satisfied: rdflib>=6.0.2 in /opt/homebrew/Caskroom/miniconda/base/lib/python3.9/site-packages (from owlrl) (6.3.2)\n",
      "Requirement already satisfied: pyparsing<4,>=2.1.0 in /opt/homebrew/Caskroom/miniconda/base/lib/python3.9/site-packages (from rdflib>=6.0.2->owlrl) (3.0.9)\n",
      "Requirement already satisfied: isodate<0.7.0,>=0.6.0 in /opt/homebrew/Caskroom/miniconda/base/lib/python3.9/site-packages (from rdflib>=6.0.2->owlrl) (0.6.1)\n",
      "Requirement already satisfied: six in /opt/homebrew/Caskroom/miniconda/base/lib/python3.9/site-packages (from isodate<0.7.0,>=0.6.0->rdflib>=6.0.2->owlrl) (1.16.0)\n",
      "Installing collected packages: owlrl\n",
      "Successfully installed owlrl-6.0.2\n"
     ]
    }
   ],
   "source": [
    "#!pip install owlrl"
   ]
  },
  {
   "cell_type": "code",
   "execution_count": 43,
   "id": "d5a34bd0-4bc2-4b93-b950-97110f8e3b25",
   "metadata": {},
   "outputs": [],
   "source": [
    "from rdflib import Graph, Namespace, Literal, BNode, RDF, RDFS, DC, FOAF, XSD"
   ]
  },
  {
   "cell_type": "code",
   "execution_count": 44,
   "id": "3b0ae442-4bf9-462d-8f32-e421da8e6eed",
   "metadata": {},
   "outputs": [],
   "source": [
    "g = Graph()\n",
    "res = Namespace('http://example.org/research#')\n",
    "\n",
    "g.bind(\"res\", res)\n",
    "g.bind(\"rdfs\", RDFS)\n",
    "\n",
    "NS = {\n",
    "    'res': res,\n",
    "    'rdf': RDF,\n",
    "    'rdfs': RDFS,\n",
    "}\n",
    "\n",
    "#Write a small function that computes the RDFS closure on your graph.\n",
    "def flush():\n",
    "    owlrl.DeductiveClosure(owlrl.RDFS_Semantics).expand(g)\n"
   ]
  },
  {
   "cell_type": "code",
   "execution_count": 45,
   "id": "e6b03802-a279-4481-92e1-67d868d6119d",
   "metadata": {},
   "outputs": [
    {
     "data": {
      "text/plain": [
       "<Graph identifier=Nb7ef24815c944e0cb30d5bb3de337924 (<class 'rdflib.graph.Graph'>)>"
      ]
     },
     "execution_count": 45,
     "metadata": {},
     "output_type": "execute_result"
    }
   ],
   "source": [
    "# rules of the graph\n",
    "# Concepts: \n",
    "\n",
    "# Author concept \n",
    "g.add((res.Author,RDFS.subClassOf, res.Person))\n",
    "# Organizer concept\n",
    "g.add((res.Organizer,RDFS.subClassOf, res.Author))\n",
    "# Chair concept\n",
    "g.add((res.Chair,RDFS.subClassOf, res.Organizer))\n",
    "# Editor concept\n",
    "g.add((res.Editor,RDFS.subClassOf, res.Organizer))\n",
    "\n",
    "# Demo Paper concept \n",
    "g.add((res.DemoPaper,RDFS.subClassOf, res.Paper))\n",
    "\n",
    "# Full Paper concept \n",
    "g.add((res.FullPaper,RDFS.subClassOf, res.Paper))\n",
    "\n",
    "# Short Paper concept \n",
    "g.add((res.ShortPaper,RDFS.subClassOf, res.Paper))\n",
    "\n",
    "# Poster concept \n",
    "g.add((res.Poster,RDFS.subClassOf, res.Paper))\n",
    "\n",
    "# Proceeding concept \n",
    "g.add((res.Proceeding,RDFS.subClassOf, res.Publication))\n",
    "\n",
    "# Volume concept \n",
    "g.add((res.Volume,RDFS.subClassOf, res.Publication))\n",
    "\n",
    "# Journal concept \n",
    "g.add((res.Journal,RDFS.subClassOf, res.Venue))\n",
    "\n",
    "# Conference concept \n",
    "g.add((res.Conference,RDFS.subClassOf, res.Venue))\n",
    "\n",
    "# Workshop concept \n",
    "g.add((res.Workshop,RDFS.subClassOf, res.Conference))\n",
    "\n",
    "# Regular Conference concept \n",
    "g.add((res.RegularConference,RDFS.subClassOf, res.Conference))\n",
    "\n",
    "# Regular Conference concept \n",
    "g.add((res.RegularConference,RDFS.subClassOf, res.Conference))\n",
    "\n",
    "# Synposium concept \n",
    "g.add((res.Symposium,RDFS.subClassOf, res.Conference))\n",
    "\n",
    "# Expert Group concept \n",
    "g.add((res.ExepertGroup,RDFS.subClassOf, res.Conference))\n"
   ]
  },
  {
   "cell_type": "code",
   "execution_count": 47,
   "id": "1895b7dd-c9aa-4818-adde-5a79843e15e4",
   "metadata": {},
   "outputs": [
    {
     "data": {
      "text/plain": [
       "<Graph identifier=Nb7ef24815c944e0cb30d5bb3de337924 (<class 'rdflib.graph.Graph'>)>"
      ]
     },
     "execution_count": 47,
     "metadata": {},
     "output_type": "execute_result"
    }
   ],
   "source": [
    "# Properties \n",
    "# Range is Author \n",
    "# hasAuthor property\n",
    "g.add((res.hasAuthor,RDFS.domain, res.Paper))\n",
    "g.add((res.hasAuthor,RDFS.range, res.Author))\n",
    "\n",
    "# hasReviewer\n",
    "g.add((res.hasReviewer,RDFS.domain, res.Review))\n",
    "g.add((res.hasReviewer,RDFS.range, res.Author))\n",
    "\n",
    "# Range is Organizer \n",
    "# assignedBy property \n",
    "g.add((res.assignedBy,RDFS.domain, res.Submission))\n",
    "g.add((res.assignedBy,RDFS.range, res.Organizer))\n",
    "\n",
    "# hasOrganizer property \n",
    "g.add((res.hasOrganizer,RDFS.domain, res.Venue))\n",
    "g.add((res.hasOrganizer,RDFS.range, res.Organizer))\n",
    "\n",
    "# Range is Review \n",
    "# hasReview property\n",
    "g.add((res.hasReview,RDFS.domain, res.Submission))\n",
    "g.add((res.hasReview,RDFS.range, res.Review))\n",
    "\n",
    "# Range is Submission\n",
    "# includedIn property\n",
    "g.add((res.includedIn,RDFS.domain, res.Paper))\n",
    "g.add((res.includedIn,RDFS.range, res.Submission))\n",
    "\n",
    "# Range is Area \n",
    "# paperRelatedTo property\n",
    "g.add((res.paperRelatedTo,RDFS.subPropertyOf, res.relatedTo))\n",
    "\n",
    "g.add((res.paperRelatedTo,RDFS.domain, res.Paper))\n",
    "g.add((res.paperRelatedTo,RDFS.range, res.Area))\n",
    "\n",
    "# venueRelatedTo property\n",
    "g.add((res.venueRelatedTo,RDFS.subPropertyOf, res.relatedTo))\n",
    "\n",
    "\n",
    "g.add((res.venueRelatedTo,RDFS.domain, res.Venue))\n",
    "g.add((res.venueRelatedTo,RDFS.range, res.Area))\n",
    "\n",
    "# Range is Publication \n",
    "# publishedIn property\n",
    "g.add((res.publishedIn,RDFS.domain, res.Paper))\n",
    "g.add((res.publishedIn,RDFS.range, res.Publication))\n",
    "\n",
    "# hasPublished property \n",
    "g.add((res.hasPublished,RDFS.domain, res.Venue))\n",
    "g.add((res.hasPublished,RDFS.range, res.Publication))\n",
    "\n",
    "# Range is Proceeding \n",
    "# posterPublishedIn property\n",
    "g.add((res.posterPublishedIn,RDFS.subPropertyOf, res.publishedIn))\n",
    "\n",
    "\n",
    "g.add((res.posterPublishedIn,RDFS.domain, res.Poster))\n",
    "g.add((res.posterPublishedIn,RDFS.range, res.Proceeding))"
   ]
  },
  {
   "cell_type": "code",
   "execution_count": 48,
   "id": "46ef1dd1-57c7-47a4-b3af-57f8e54ef99b",
   "metadata": {},
   "outputs": [
    {
     "name": "stdout",
     "output_type": "stream",
     "text": [
      "@prefix rdfs: <http://www.w3.org/2000/01/rdf-schema#> .\n",
      "@prefix res: <http://example.org/research#> .\n",
      "\n",
      "res:Chair rdfs:subClassOf res:Organizer .\n",
      "\n",
      "res:DemoPaper rdfs:subClassOf res:Paper .\n",
      "\n",
      "res:Editor rdfs:subClassOf res:Organizer .\n",
      "\n",
      "res:ExepertGroup rdfs:subClassOf res:Conference .\n",
      "\n",
      "res:FullPaper rdfs:subClassOf res:Paper .\n",
      "\n",
      "res:Journal rdfs:subClassOf res:Venue .\n",
      "\n",
      "res:RegularConference rdfs:subClassOf res:Conference .\n",
      "\n",
      "res:ShortPaper rdfs:subClassOf res:Paper .\n",
      "\n",
      "res:Symposium rdfs:subClassOf res:Conference .\n",
      "\n",
      "res:Volume rdfs:subClassOf res:Publication .\n",
      "\n",
      "res:Workshop rdfs:subClassOf res:Conference .\n",
      "\n",
      "res:assignedBy rdfs:domain res:Submission ;\n",
      "    rdfs:range res:Organizer .\n",
      "\n",
      "res:hasAuthor rdfs:domain res:Paper ;\n",
      "    rdfs:range res:Author .\n",
      "\n",
      "res:hasOrganizer rdfs:domain res:Venue ;\n",
      "    rdfs:range res:Organizer .\n",
      "\n",
      "res:hasPublished rdfs:domain res:Venue ;\n",
      "    rdfs:range res:Publication .\n",
      "\n",
      "res:hasReview rdfs:domain res:Submission ;\n",
      "    rdfs:range res:Review .\n",
      "\n",
      "res:hasReviewer rdfs:domain res:Review ;\n",
      "    rdfs:range res:Author .\n",
      "\n",
      "res:includedIn rdfs:domain res:Paper ;\n",
      "    rdfs:range res:Submission .\n",
      "\n",
      "res:paperRelatedTo rdfs:domain res:Paper ;\n",
      "    rdfs:range res:Area ;\n",
      "    rdfs:subPropertyOf res:relatedTo .\n",
      "\n",
      "res:posterPublishedIn rdfs:domain res:Poster ;\n",
      "    rdfs:range res:Proceeding ;\n",
      "    rdfs:subPropertyOf res:publishedIn .\n",
      "\n",
      "res:venueRelatedTo rdfs:domain res:Venue ;\n",
      "    rdfs:range res:Area ;\n",
      "    rdfs:subPropertyOf res:relatedTo .\n",
      "\n",
      "res:Poster rdfs:subClassOf res:Paper .\n",
      "\n",
      "res:Proceeding rdfs:subClassOf res:Publication .\n",
      "\n",
      "res:publishedIn rdfs:domain res:Paper ;\n",
      "    rdfs:range res:Publication .\n",
      "\n",
      "res:Author rdfs:subClassOf res:Person .\n",
      "\n",
      "res:Conference rdfs:subClassOf res:Venue .\n",
      "\n",
      "res:Organizer rdfs:subClassOf res:Author .\n",
      "\n",
      "\n"
     ]
    }
   ],
   "source": [
    "print(g.serialize())"
   ]
  },
  {
   "cell_type": "code",
   "execution_count": null,
   "id": "e0980c3c-f974-4818-81d3-b62d14b5c33c",
   "metadata": {},
   "outputs": [],
   "source": []
  }
 ],
 "metadata": {
  "kernelspec": {
   "display_name": "Python 3 (ipykernel)",
   "language": "python",
   "name": "python3"
  },
  "language_info": {
   "codemirror_mode": {
    "name": "ipython",
    "version": 3
   },
   "file_extension": ".py",
   "mimetype": "text/x-python",
   "name": "python",
   "nbconvert_exporter": "python",
   "pygments_lexer": "ipython3",
   "version": "3.9.15"
  }
 },
 "nbformat": 4,
 "nbformat_minor": 5
}
