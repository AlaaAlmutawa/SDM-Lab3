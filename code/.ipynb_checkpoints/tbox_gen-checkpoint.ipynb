{
 "cells": [
  {
   "cell_type": "markdown",
   "id": "b7924df7",
   "metadata": {
    "heading_collapsed": true
   },
   "source": [
    "# Define Graph"
   ]
  },
  {
   "cell_type": "code",
   "execution_count": 1,
   "id": "012a917b-f0ac-4298-b54c-f25ff852534b",
   "metadata": {
    "ExecuteTime": {
     "end_time": "2023-05-17T22:49:06.003157Z",
     "start_time": "2023-05-17T22:49:05.995163Z"
    },
    "hidden": true
   },
   "outputs": [],
   "source": [
    "# Install libraries\n",
    "#!pip install rdflib\n",
    "#!pip install owlrl"
   ]
  },
  {
   "cell_type": "code",
   "execution_count": 2,
   "id": "3b0ae442-4bf9-462d-8f32-e421da8e6eed",
   "metadata": {
    "ExecuteTime": {
     "end_time": "2023-05-17T22:49:06.174180Z",
     "start_time": "2023-05-17T22:49:06.005157Z"
    },
    "hidden": true
   },
   "outputs": [],
   "source": [
    "import os\n",
    "from rdflib import Graph, Namespace, Literal, BNode, RDF, RDFS, DC, XSD\n",
    "\n",
    "# Folder to save all output\n",
    "savefolder='../output'\n",
    "\n",
    "# Set up graph\n",
    "g = Graph()\n",
    "sdm = Namespace('http://example.org/sdm#')\n",
    "\n",
    "g.bind(\"sdm\", sdm)\n",
    "g.bind(\"rdfs\", RDFS)\n",
    "g.bind(\"xsd\", XSD)\n",
    "g.bind(\"rdf\", RDF)\n",
    "\n",
    "NS = {\n",
    "    'sdm': sdm,\n",
    "    'rdf': RDF,\n",
    "    'rdfs': RDFS,\n",
    "    'xsd':XSD,\n",
    "}"
   ]
  },
  {
   "cell_type": "markdown",
   "id": "7a0e0763",
   "metadata": {},
   "source": [
    "# Define TBOX"
   ]
  },
  {
   "cell_type": "code",
   "execution_count": 3,
   "id": "e6b03802-a279-4481-92e1-67d868d6119d",
   "metadata": {
    "ExecuteTime": {
     "end_time": "2023-05-17T22:49:06.206158Z",
     "start_time": "2023-05-17T22:49:06.181158Z"
    }
   },
   "outputs": [
    {
     "data": {
      "text/plain": [
       "<Graph identifier=N4f2c9380bcc54552907fe4a6ebba97a8 (<class 'rdflib.graph.Graph'>)>"
      ]
     },
     "execution_count": 3,
     "metadata": {},
     "output_type": "execute_result"
    }
   ],
   "source": [
    "# rules of the graph\n",
    "# Concepts:\n",
    "\n",
    "# Author concept \n",
    "g.add((sdm.Author,RDFS.subClassOf, sdm.Person))\n",
    "# Organizer concept\n",
    "g.add((sdm.Organizer,RDFS.subClassOf, sdm.Author))\n",
    "# Chair concept\n",
    "g.add((sdm.Chair,RDFS.subClassOf, sdm.Organizer))\n",
    "# Editor concept\n",
    "g.add((sdm.Editor,RDFS.subClassOf, sdm.Organizer))\n",
    "\n",
    "# Demo Paper concept \n",
    "g.add((sdm.DemoPaper,RDFS.subClassOf, sdm.Paper))\n",
    "\n",
    "# Full Paper concept \n",
    "g.add((sdm.FullPaper,RDFS.subClassOf, sdm.Paper))\n",
    "\n",
    "# Short Paper concept \n",
    "g.add((sdm.ShortPaper,RDFS.subClassOf, sdm.Paper))\n",
    "\n",
    "# Poster concept \n",
    "g.add((sdm.Poster,RDFS.subClassOf, sdm.Paper))\n",
    "\n",
    "# Proceeding concept \n",
    "g.add((sdm.Proceeding,RDFS.subClassOf, sdm.Publication))\n",
    "\n",
    "# Volume concept \n",
    "g.add((sdm.Volume,RDFS.subClassOf, sdm.Publication))\n",
    "\n",
    "# Journal concept \n",
    "g.add((sdm.Journal,RDFS.subClassOf, sdm.Venue))\n",
    "\n",
    "# Conference concept \n",
    "g.add((sdm.Conference,RDFS.subClassOf, sdm.Venue))\n",
    "\n",
    "# Workshop concept \n",
    "g.add((sdm.Workshop,RDFS.subClassOf, sdm.Conference))\n",
    "\n",
    "# Regular Conference concept \n",
    "g.add((sdm.RegularConference,RDFS.subClassOf, sdm.Conference))\n",
    "\n",
    "# Regular Conference concept \n",
    "g.add((sdm.RegularConference,RDFS.subClassOf, sdm.Conference))\n",
    "\n",
    "# Synposium concept \n",
    "g.add((sdm.Symposium,RDFS.subClassOf, sdm.Conference))\n",
    "\n",
    "# Expert Group concept \n",
    "g.add((sdm.ExpertGroup,RDFS.subClassOf, sdm.Conference))\n"
   ]
  },
  {
   "cell_type": "code",
   "execution_count": 4,
   "id": "1895b7dd-c9aa-4818-adde-5a79843e15e4",
   "metadata": {
    "ExecuteTime": {
     "end_time": "2023-05-17T22:49:06.251177Z",
     "start_time": "2023-05-17T22:49:06.214158Z"
    }
   },
   "outputs": [
    {
     "data": {
      "text/plain": [
       "<Graph identifier=N4f2c9380bcc54552907fe4a6ebba97a8 (<class 'rdflib.graph.Graph'>)>"
      ]
     },
     "execution_count": 4,
     "metadata": {},
     "output_type": "execute_result"
    }
   ],
   "source": [
    "# Properties \n",
    "# Range is Author \n",
    "# hasAuthor property\n",
    "g.add((sdm.hasAuthor,RDFS.domain, sdm.Paper))\n",
    "g.add((sdm.hasAuthor,RDFS.range, sdm.Author))\n",
    "\n",
    "# hasReviewer\n",
    "g.add((sdm.hasReviewer,RDFS.domain, sdm.Review))\n",
    "g.add((sdm.hasReviewer,RDFS.range, sdm.Author))\n",
    "\n",
    "# Range is Organizer \n",
    "# assignedBy property \n",
    "g.add((sdm.assignedBy,RDFS.domain, sdm.Submission))\n",
    "g.add((sdm.assignedBy,RDFS.range, sdm.Organizer))\n",
    "\n",
    "# hasOrganizer property \n",
    "g.add((sdm.hasOrganizer,RDFS.domain, sdm.Venue))\n",
    "g.add((sdm.hasOrganizer,RDFS.range, sdm.Organizer))\n",
    "\n",
    "# Range is Review \n",
    "# hasReview property\n",
    "g.add((sdm.hasReview,RDFS.domain, sdm.Submission))\n",
    "g.add((sdm.hasReview,RDFS.range, sdm.Review))\n",
    "\n",
    "# Range is Submission\n",
    "# includedIn property\n",
    "g.add((sdm.includedIn,RDFS.domain, sdm.Paper))\n",
    "g.add((sdm.includedIn,RDFS.range, sdm.Submission))\n",
    "\n",
    "# Range is Area \n",
    "# paperRelatedTo property\n",
    "g.add((sdm.paperRelatedTo,RDFS.subPropertyOf, sdm.relatedTo))\n",
    "\n",
    "g.add((sdm.paperRelatedTo,RDFS.domain, sdm.Paper))\n",
    "g.add((sdm.paperRelatedTo,RDFS.range, sdm.Area))\n",
    "\n",
    "# Range is Venue\n",
    "# submittedTo property\n",
    "g.add((sdm.submittedTo,RDFS.domain, sdm.Submission))\n",
    "g.add((sdm.submittedTo,RDFS.range, sdm.Venue))\n",
    "\n",
    "# venueRelatedTo property\n",
    "g.add((sdm.venueRelatedTo,RDFS.subPropertyOf, sdm.relatedTo))\n",
    "\n",
    "g.add((sdm.venueRelatedTo,RDFS.domain, sdm.Venue))\n",
    "g.add((sdm.venueRelatedTo,RDFS.range, sdm.Area))\n",
    "\n",
    "# publicationRelatedTo property\n",
    "g.add((sdm.publicationRelatedTo,RDFS.subPropertyOf, sdm.relatedTo))\n",
    "\n",
    "g.add((sdm.publicationRelatedTo,RDFS.domain, sdm.Publication))\n",
    "g.add((sdm.publicationRelatedTo,RDFS.range, sdm.Area))\n",
    "\n",
    "# Range is Publication \n",
    "# publishedIn property\n",
    "g.add((sdm.publishedIn,RDFS.domain, sdm.Paper))\n",
    "g.add((sdm.publishedIn,RDFS.range, sdm.Publication))\n",
    "\n",
    "# hasPublished property \n",
    "g.add((sdm.hasPublished,RDFS.domain, sdm.Venue))\n",
    "g.add((sdm.hasPublished,RDFS.range, sdm.Publication))\n",
    "\n",
    "# Range is Proceeding \n",
    "# posterPublishedIn property\n",
    "g.add((sdm.posterPublishedIn,RDFS.subPropertyOf, sdm.publishedIn))\n",
    "\n",
    "\n",
    "g.add((sdm.posterPublishedIn,RDFS.domain, sdm.Poster))\n",
    "g.add((sdm.posterPublishedIn,RDFS.range, sdm.Proceeding))"
   ]
  },
  {
   "cell_type": "code",
   "execution_count": 5,
   "id": "1814bdea-19f7-4519-b62e-3f2d2b53c193",
   "metadata": {
    "ExecuteTime": {
     "end_time": "2023-05-17T22:49:06.298158Z",
     "start_time": "2023-05-17T22:49:06.255158Z"
    }
   },
   "outputs": [
    {
     "data": {
      "text/plain": [
       "<Graph identifier=N4f2c9380bcc54552907fe4a6ebba97a8 (<class 'rdflib.graph.Graph'>)>"
      ]
     },
     "execution_count": 5,
     "metadata": {},
     "output_type": "execute_result"
    }
   ],
   "source": [
    "## Data properties\n",
    "\n",
    "## Person concept data properties\n",
    "## hasPersonName\n",
    "g.add((sdm.hasPersonName,RDFS.domain, sdm.Person))\n",
    "g.add((sdm.hasPersonName,RDFS.range, XSD.string))\n",
    "\n",
    "## hasBirthDate \n",
    "g.add((sdm.hasBirthDate,RDFS.domain, sdm.Person))\n",
    "g.add((sdm.hasBirthDate,RDFS.range, XSD.date))\n",
    "\n",
    "## hasSex \n",
    "g.add((sdm.hasSex,RDFS.domain, sdm.Person))\n",
    "g.add((sdm.hasSex,RDFS.range, XSD.string))\n",
    "\n",
    "## originCountry \n",
    "g.add((sdm.originCountry,RDFS.domain, sdm.Person))\n",
    "g.add((sdm.originCountry,RDFS.range, XSD.string))\n",
    "\n",
    "## Author concept data properties \n",
    "## hasHIndex \n",
    "g.add((sdm.hasHIndex,RDFS.domain, sdm.Author))\n",
    "g.add((sdm.hasHIndex,RDFS.range, XSD.float))\n",
    "\n",
    "## url\n",
    "g.add((sdm.url,RDFS.domain, sdm.Author))\n",
    "g.add((sdm.url,RDFS.range, XSD.string))\n",
    "\n",
    "## affiliatedWithInstitution\n",
    "g.add((sdm.affiliatedWithInstitution,RDFS.domain, sdm.Author))\n",
    "g.add((sdm.affiliatedWithInstitution,RDFS.range, XSD.string))\n",
    "\n",
    "\n",
    "## Review concept data properties \n",
    "## decision\n",
    "g.add((sdm.decision,RDFS.domain, sdm.Review))\n",
    "g.add((sdm.decision,RDFS.range, XSD.integer))\n",
    "\n",
    "## content \n",
    "g.add((sdm.content,RDFS.domain, sdm.Review))\n",
    "g.add((sdm.content,RDFS.range, XSD.string))\n",
    "\n",
    "## reviewDate\n",
    "g.add((sdm.reviewDate,RDFS.domain, sdm.Review))\n",
    "g.add((sdm.reviewDate,RDFS.range, XSD.date))\n",
    "\n",
    "## Submission concept data properties \n",
    "## submissionDate\n",
    "g.add((sdm.submissionDate,RDFS.domain, sdm.Submission))\n",
    "g.add((sdm.submissionDate,RDFS.range, XSD.date))\n",
    "\n",
    "## Venue concept data properties\n",
    "## hasVenueTitle\n",
    "g.add((sdm.hasVenueTitle,RDFS.domain, sdm.Venue))\n",
    "g.add((sdm.hasVenueTitle,RDFS.range, XSD.string))\n",
    "\n",
    "## Conference concept data properties \n",
    "## conferenceSeries\n",
    "g.add((sdm.conferenceSeries,RDFS.domain, sdm.Conference))\n",
    "g.add((sdm.conferenceSeries,RDFS.range, XSD.string))\n",
    "\n",
    "## startDate\n",
    "g.add((sdm.startDate,RDFS.domain, sdm.Conference))\n",
    "g.add((sdm.startDate,RDFS.range, XSD.date))\n",
    "\n",
    "## endDate\n",
    "g.add((sdm.endDate,RDFS.domain, sdm.Conference))\n",
    "g.add((sdm.endDate,RDFS.range, XSD.date))\n",
    "\n",
    "## heldIn\n",
    "g.add((sdm.heldIn,RDFS.domain, sdm.Conference))\n",
    "g.add((sdm.heldIn,RDFS.range, XSD.string))\n",
    "\n",
    "## heldInYear\n",
    "g.add((sdm.heldInYear,RDFS.domain, sdm.Conference))\n",
    "g.add((sdm.heldInYear,RDFS.range, XSD.integer))\n",
    "\n",
    "## Publication concept data properties\n",
    "## publicationIssn\n",
    "g.add((sdm.publicationIssn,RDFS.domain, sdm.Publication))\n",
    "g.add((sdm.publicationIssn,RDFS.range, XSD.string))\n",
    "\n",
    "## publisher \n",
    "g.add((sdm.publisher,RDFS.domain, sdm.Publication))\n",
    "g.add((sdm.publisher,RDFS.range, XSD.string))\n",
    "\n",
    "## publishedDate\n",
    "g.add((sdm.publishedDate,RDFS.domain, sdm.Publication))\n",
    "g.add((sdm.publishedDate,RDFS.range, XSD.date))\n",
    "\n",
    "## Paper concept data properties \n",
    "## paperTitle\n",
    "g.add((sdm.paperTitle,RDFS.domain, sdm.Paper))\n",
    "g.add((sdm.paperTitle,RDFS.range, XSD.string))\n",
    "\n",
    "## paperWordCount\n",
    "g.add((sdm.paperWordCount,RDFS.domain, sdm.Paper))\n",
    "g.add((sdm.paperWordCount,RDFS.range, XSD.integer))\n",
    "\n",
    "## paperAbstract \n",
    "g.add((sdm.paperAbstract,RDFS.domain, sdm.Paper))\n",
    "g.add((sdm.paperAbstract,RDFS.range, XSD.string))\n",
    "\n",
    "## paperDOI\n",
    "g.add((sdm.paperDOI,RDFS.domain, sdm.Paper))\n",
    "g.add((sdm.paperDOI,RDFS.range, XSD.string))\n",
    "\n",
    "## Area concept data properties \n",
    "## hasTopicName\n",
    "g.add((sdm.hasTopicName,RDFS.domain, sdm.Area))\n",
    "g.add((sdm.hasTopicName,RDFS.range, XSD.string))"
   ]
  },
  {
   "cell_type": "markdown",
   "id": "9734801c",
   "metadata": {},
   "source": [
    "# Export"
   ]
  },
  {
   "cell_type": "code",
   "execution_count": 6,
   "id": "46ef1dd1-57c7-47a4-b3af-57f8e54ef99b",
   "metadata": {
    "ExecuteTime": {
     "end_time": "2023-05-17T22:49:06.345167Z",
     "start_time": "2023-05-17T22:49:06.303159Z"
    }
   },
   "outputs": [
    {
     "data": {
      "text/plain": [
       "<Graph identifier=N4f2c9380bcc54552907fe4a6ebba97a8 (<class 'rdflib.graph.Graph'>)>"
      ]
     },
     "execution_count": 6,
     "metadata": {},
     "output_type": "execute_result"
    }
   ],
   "source": [
    "os.chdir(savefolder)\n",
    "g.serialize(destination='output_tbox.rdf',format=\"xml\")"
   ]
  }
 ],
 "metadata": {
  "kernelspec": {
   "display_name": "Python 3 (ipykernel)",
   "language": "python",
   "name": "python3"
  },
  "language_info": {
   "codemirror_mode": {
    "name": "ipython",
    "version": 3
   },
   "file_extension": ".py",
   "mimetype": "text/x-python",
   "name": "python",
   "nbconvert_exporter": "python",
   "pygments_lexer": "ipython3",
   "version": "3.10.8"
  },
  "varInspector": {
   "cols": {
    "lenName": 16,
    "lenType": 16,
    "lenVar": 40
   },
   "kernels_config": {
    "python": {
     "delete_cmd_postfix": "",
     "delete_cmd_prefix": "del ",
     "library": "var_list.py",
     "varRefreshCmd": "print(var_dic_list())"
    },
    "r": {
     "delete_cmd_postfix": ") ",
     "delete_cmd_prefix": "rm(",
     "library": "var_list.r",
     "varRefreshCmd": "cat(var_dic_list()) "
    }
   },
   "types_to_exclude": [
    "module",
    "function",
    "builtin_function_or_method",
    "instance",
    "_Feature"
   ],
   "window_display": false
  }
 },
 "nbformat": 4,
 "nbformat_minor": 5
}
